{
  "nbformat": 4,
  "nbformat_minor": 0,
  "metadata": {
    "colab": {
      "provenance": [],
      "mount_file_id": "13hbwA8qSwNFW6cu29IjxyEkR4p8Ub1zx",
      "authorship_tag": "ABX9TyPYnTo9T9gK02CO/apFt5JA",
      "include_colab_link": true
    },
    "kernelspec": {
      "name": "python3",
      "display_name": "Python 3"
    },
    "language_info": {
      "name": "python"
    }
  },
  "cells": [
    {
      "cell_type": "markdown",
      "metadata": {
        "id": "view-in-github",
        "colab_type": "text"
      },
      "source": [
        "<a href=\"https://colab.research.google.com/github/TuncerCemUgurluer/EEG_deception_detection/blob/code/data_augmentation.ipynb\" target=\"_parent\"><img src=\"https://colab.research.google.com/assets/colab-badge.svg\" alt=\"Open In Colab\"/></a>"
      ]
    },
    {
      "cell_type": "code",
      "execution_count": null,
      "metadata": {
        "id": "eyxVpd8_sEGk"
      },
      "outputs": [],
      "source": [
        "import pandas as pd\n",
        "import os\n",
        "import numpy as np\n",
        "import shutil"
      ]
    },
    {
      "cell_type": "code",
      "source": [
        " eeg_channels = [\"EEG.AF3\", \"EEG.F7\", \"EEG.F3\", \"EEG.FC5\", \"EEG.T7\", \"EEG.P7\", \"EEG.O1\", \"EEG.O2\", \"EEG.P8\", \"EEG.T8\", \"EEG.FC6\", \"EEG.F4\", \"EEG.F8\", \"EEG.AF4\"]\n"
      ],
      "metadata": {
        "id": "uPIalzYQ4W_w"
      },
      "execution_count": null,
      "outputs": []
    },
    {
      "cell_type": "code",
      "source": [
        "def augment_frequency_domain(signal, perturbation_factor=0.05):\n",
        "    # Transform the signal to the frequency domain\n",
        "    freq_domain = np.fft.fft(signal)\n",
        "\n",
        "    # Get magnitude and phase\n",
        "    magnitude = np.abs(freq_domain)\n",
        "    phase = np.angle(freq_domain)\n",
        "\n",
        "    # Introduce perturbations to magnitude\n",
        "    magnitude_perturbed = magnitude + perturbation_factor * np.random.normal(0, 1, magnitude.shape)\n",
        "\n",
        "    # Reconstruct frequency domain signal with perturbed magnitude\n",
        "    freq_domain_perturbed = magnitude_perturbed * np.exp(1j * phase)\n",
        "\n",
        "    # Transform back to time domain\n",
        "    augmented_signal = np.real(np.fft.ifft(freq_domain_perturbed))\n",
        "\n",
        "    return augmented_signal"
      ],
      "metadata": {
        "id": "0CACtKHN4d3z"
      },
      "execution_count": null,
      "outputs": []
    },
    {
      "cell_type": "code",
      "source": [
        "def augment_jittering(signal, noise_factor=0.01):\n",
        "    \"\"\"\n",
        "    Add Gaussian noise to the signal.\n",
        "    \"\"\"\n",
        "    noise = noise_factor * np.random.normal(size=signal.shape)\n",
        "    return signal + noise"
      ],
      "metadata": {
        "id": "8U1Cfn6Q4n2Q"
      },
      "execution_count": null,
      "outputs": []
    },
    {
      "cell_type": "code",
      "source": [
        "def augment_and_copy_eeg_file(filepath, category, save_dir):\n",
        "    \"\"\"\n",
        "    Apply both frequency-domain and jittering augmentations to an EEG file,\n",
        "    save the augmented versions in the specified category folder,\n",
        "    and copy the original file to the save directory.\n",
        "    \"\"\"\n",
        "    # Load only the necessary columns\n",
        "    data = pd.read_csv(filepath, usecols=eeg_channels)\n",
        "\n",
        "    # Determine the save subdirectory based on category\n",
        "    save_subdir = os.path.join(save_dir, category)\n",
        "    if not os.path.exists(save_subdir):\n",
        "        os.makedirs(save_subdir)\n",
        "\n",
        "    # Frequency-domain augmentation\n",
        "    data_frequency = data.copy()\n",
        "    for channel in eeg_channels:\n",
        "        data_frequency[channel] = augment_frequency_domain(data[channel].values)\n",
        "    base_filename = os.path.basename(filepath)\n",
        "    augmented_filename_frequency = base_filename.split(\".\")[0] + \"_frequency_aug.csv\"\n",
        "    augmented_filepath_frequency = os.path.join(save_subdir, augmented_filename_frequency)\n",
        "    data_frequency.to_csv(augmented_filepath_frequency, index=False)\n",
        "\n",
        "    # Jittering augmentation\n",
        "    data_jittering = data.copy()\n",
        "    for channel in eeg_channels:\n",
        "        data_jittering[channel] = augment_jittering(data[channel].values)\n",
        "    augmented_filename_jittering = base_filename.split(\".\")[0] + \"_jittering_aug.csv\"\n",
        "    augmented_filepath_jittering = os.path.join(save_subdir, augmented_filename_jittering)\n",
        "    data_jittering.to_csv(augmented_filepath_jittering, index=False)\n",
        "\n",
        "    # Copy the original file to the save subdirectory\n",
        "    shutil.copy(filepath, os.path.join(save_subdir, base_filename))"
      ],
      "metadata": {
        "id": "jng_TR0v3yZr"
      },
      "execution_count": null,
      "outputs": []
    },
    {
      "cell_type": "code",
      "source": [
        "lie_dir = \"/content/drive/MyDrive/EEG/Serkan_new/Serkan_new_Lie\"\n",
        "truth_dir = \"/content/drive/MyDrive/EEG/Serkan_new/Serkan_new_True\"\n",
        "save_dir = \"/content/drive/MyDrive/EEG/augmented_data\""
      ],
      "metadata": {
        "id": "uJ8AEqE74Fnr"
      },
      "execution_count": null,
      "outputs": []
    },
    {
      "cell_type": "code",
      "source": [
        "for filepath in os.listdir(lie_dir):\n",
        "    augment_and_copy_eeg_file(os.path.join(lie_dir, filepath), \"lie\", save_dir)"
      ],
      "metadata": {
        "id": "hUDqzm0C4JMS"
      },
      "execution_count": null,
      "outputs": []
    },
    {
      "cell_type": "code",
      "source": [
        "for filepath in os.listdir(truth_dir):\n",
        "    augment_and_copy_eeg_file(os.path.join(truth_dir, filepath),\"truth\", save_dir)"
      ],
      "metadata": {
        "id": "dSr-Gjbr4LbT"
      },
      "execution_count": null,
      "outputs": []
    },
    {
      "cell_type": "code",
      "source": [],
      "metadata": {
        "id": "n-HquqKM46JS"
      },
      "execution_count": null,
      "outputs": []
    }
  ]
}